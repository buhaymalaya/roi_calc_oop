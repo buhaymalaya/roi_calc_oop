{
 "cells": [
  {
   "cell_type": "markdown",
   "metadata": {},
   "source": [
    "# Time/Space Complexity\n",
    "\n",
    "### Topics to discuss today:\n",
    "\n",
    "<ul>\n",
    "    <li>Time and Space Complexity - What is it/How do we measure it</li>\n",
    "    <li>Asymptotic Analysis</li>\n",
    "    <li><strong>Data Structures</strong></li>\n",
    "    <li>Some of the popular sorting algorithms</li>\n",
    "</ul>\n",
    "\n",
    "\n"
   ]
  },
  {
   "cell_type": "markdown",
   "metadata": {},
   "source": [
    "## Time and Space Complexity\n",
    "\n",
    "#### What is it?\n",
    "\n",
    "Time and space complexity is the measure of how much time a given action(function) will take to solve a problem. In the same fashion, we determine how much a given data structure will need in terms of memory allocation. A problem can have multiple solutions and finding the optimal solution for the problem needs to be analyzed in time and space.\n",
    "\n",
    "### https://www.bigocheatsheet.com/\n",
    "\n",
    "#### How do we measure Time and Space Complexity?\n",
    "\n",
    "In order to measure time and space complexity we use Asymptotic analysis. The reason for this is because we need a way to measure different algorithms (functions) based on the size of their inputs in a mathmatical way. For example, we could have a function that is computed as f(n) and another that is g(n^2). All things around the function staying constant, the only thing that changes is the size of the input. Below is the chart that shows the different Asymptotic analysis formats. "
   ]
  },
  {
   "cell_type": "markdown",
   "metadata": {},
   "source": [
    "<table style=\"text-align:center;\" class=\"table table-bordered\">\n",
    "<tbody><tr>\n",
    "<td>constant</td>\n",
    "<td>−</td>\n",
    "<td>Ο(1)</td>\n",
    "</tr>\n",
    "<tr>\n",
    "<td>logarithmic</td>\n",
    "<td>−</td>\n",
    "<td>Ο(log n)</td>\n",
    "</tr>\n",
    "<tr>\n",
    "<td>linear</td>\n",
    "<td>−</td>\n",
    "<td>Ο(n)</td>\n",
    "</tr>\n",
    "<tr>\n",
    "<td>Linear Logarithmic</td>\n",
    "<td>−</td>\n",
    "<td>Ο(n log n)</td>\n",
    "</tr>\n",
    "<tr>\n",
    "<td>quadratic</td>\n",
    "<td>−</td>\n",
    "<td>Ο(n<sup>2</sup>)</td>\n",
    "</tr>\n",
    "<tr>\n",
    "<td>cubic</td>\n",
    "<td>−</td>\n",
    "<td>Ο(n<sup>3</sup>)</td>\n",
    "</tr>\n",
    "<tr>\n",
    "<td>polynomial</td>\n",
    "<td>−</td>\n",
    "<td>n<sup>Ο(1)</sup></td>\n",
    "</tr>\n",
    "<tr>\n",
    "<td>exponential</td>\n",
    "<td>−</td>\n",
    "<td>2<sup>Ο(n)</sup></td>\n",
    "</tr>\n",
    "</tbody></table>"
   ]
  },
  {
   "cell_type": "markdown",
   "metadata": {},
   "source": [
    "## Arrays"
   ]
  },
  {
   "cell_type": "markdown",
   "metadata": {},
   "source": [
    "In python we benefit from the dynamic array which means the block of memory will expand as needed for the given input to the array. In traditional arrays (depending on the type of operating system) we will usually store our inputs in 4 or 8 consecutive blocks of memory. Below is a diagram of how that looks under the hood:\n",
    "\n",
    "<img src=\"http://www.cs.emory.edu/~cheung/Courses/170/Syllabus/09/FIGS/array02x.gif\" style=\"height:350px; width:500px;\">"
   ]
  },
  {
   "cell_type": "markdown",
   "metadata": {},
   "source": [
    "## Which in python looks like this:"
   ]
  },
  {
   "cell_type": "code",
   "execution_count": 1,
   "metadata": {},
   "outputs": [
    {
     "name": "stdout",
     "output_type": "stream",
     "text": [
      "[1, 2, 3, 4, 5, 6, 7, 8, 9, 10, 11, 12, 13, 14, 15, 16, 17, 18, 19, 20, 21, 22, 23, 24, 25, 26, 27, 28, 29, 30, 31, 32, 33, 34, 35, 36, 37, 38, 39, 40, 41, 42, 43, 44, 45, 46, 47, 48, 49, 50, 51, 52, 53, 54, 55, 56, 57, 58, 59, 60, 61, 62, 63, 64, 65, 66, 67, 68, 69, 70, 71, 72, 73, 74, 75, 76, 77, 78, 79, 80, 81, 82, 83, 84, 85, 86, 87, 88, 89, 90, 91, 92, 93, 94, 95, 96, 97, 98, 99, 100]\n"
     ]
    }
   ],
   "source": [
    "# O as in omega - constant O(1) is the goal, also linear O(n), quadratic and above(similar) - What is logarithmic?\n",
    "# constant is a direct number of steps, does not grow or shrink with the data set\n",
    "# logarithmic - smaller number of steps compared to data set\n",
    "# linear - for loop, for every element in a data set\n",
    "# linear logarithmic - \n",
    "# quadratic - nested loops ie 100 * 100 so 100 steps for 10,000 data items\n",
    "# polynomial - \n",
    "# exponential - fibonacci sequence, worst complexity\n",
    "# how can we improve on efficiency?\n",
    "\n",
    "# ARRAYS:\n",
    "# example\n",
    "\n",
    "ex = list(range(1,101))\n",
    "print(ex)\n"
   ]
  },
  {
   "cell_type": "code",
   "execution_count": 4,
   "metadata": {},
   "outputs": [
    {
     "name": "stdout",
     "output_type": "stream",
     "text": [
      "50\n"
     ]
    }
   ],
   "source": [
    "# Constant O(1) examples:\n",
    "\n",
    "def const(arr):\n",
    "    steps = 0 # base to compare\n",
    "    # find middle number of list\n",
    "    return arr[len(arr)//2-1]\n",
    "print(const(ex))\n",
    "\n",
    "def const(arr):\n",
    "    print(len(arr))\n",
    "    print(len(arr)//2)\n",
    "    print(len(arr)//2) - 1)\n",
    "    return arr[-1]\n"
   ]
  },
  {
   "cell_type": "code",
   "execution_count": 5,
   "metadata": {},
   "outputs": [
    {
     "name": "stdout",
     "output_type": "stream",
     "text": [
      " len on list -> 100 \n",
      "steps -> 34\n"
     ]
    },
    {
     "data": {
      "text/plain": [
       "34"
      ]
     },
     "execution_count": 5,
     "metadata": {},
     "output_type": "execute_result"
    }
   ],
   "source": [
    "# Logarithmic O(log n) - taking less steps than the dataset\n",
    "\n",
    "def log_ex(arr):\n",
    "    steps = 0\n",
    "    for x in range(0, len(arr), 3):\n",
    "        steps += 1\n",
    "    print(f' len on list -> {len(arr)} \\nsteps -> {steps}')\n",
    "    return steps\n",
    "log_ex(ex)"
   ]
  },
  {
   "cell_type": "code",
   "execution_count": 6,
   "metadata": {},
   "outputs": [
    {
     "name": "stdout",
     "output_type": "stream",
     "text": [
      " len on list -> 100 \n",
      "steps -> 100\n"
     ]
    },
    {
     "data": {
      "text/plain": [
       "100"
      ]
     },
     "execution_count": 6,
     "metadata": {},
     "output_type": "execute_result"
    }
   ],
   "source": [
    "# Linear O(n) - a step for every item in the dataset\n",
    "\n",
    "def lin_ex(arr):\n",
    "    steps = 0\n",
    "    for a in arr:\n",
    "        steps += 1\n",
    "    print(f' len on list -> {len(arr)} \\nsteps -> {steps}')\n",
    "    return steps\n",
    "lin_ex(ex)"
   ]
  },
  {
   "cell_type": "code",
   "execution_count": null,
   "metadata": {},
   "outputs": [],
   "source": [
    "# Linear Logarithmic O(n Log n) or quasilinear - \n",
    "# Think of the splitting behavior in merge sort\n",
    "# merge sort example"
   ]
  },
  {
   "cell_type": "code",
   "execution_count": 7,
   "metadata": {},
   "outputs": [
    {
     "name": "stdout",
     "output_type": "stream",
     "text": [
      " len on list -> 100 \n",
      "steps -> 10100\n"
     ]
    },
    {
     "data": {
      "text/plain": [
       "10100"
      ]
     },
     "execution_count": 7,
     "metadata": {},
     "output_type": "execute_result"
    }
   ],
   "source": [
    "# Quadratic O(n^2) - think nested for loops (brute force)\n",
    "\n",
    "def quad_goals(arr):\n",
    "    steps=0\n",
    "    for a in arr:\n",
    "        steps += 1\n",
    "        for b in arr:\n",
    "            steps +=1\n",
    "    print(f' len on list -> {len(arr)} \\nsteps -> {steps}')\n",
    "    return steps\n",
    "quad_goals(ex) # look at those number of steps yikes!\n",
    "\n",
    "# for perspective; 3n fn wc signifies linear but still better because 300 < 10,100 steps"
   ]
  },
  {
   "cell_type": "code",
   "execution_count": 8,
   "metadata": {},
   "outputs": [
    {
     "name": "stdout",
     "output_type": "stream",
     "text": [
      "steps -> 0\n",
      "steps -> 0\n",
      "steps -> 0\n",
      "steps -> 0\n",
      "steps -> 0\n",
      "10\n"
     ]
    }
   ],
   "source": [
    "# Exponential - fibonacci sequence example, uncommon \n",
    "\n",
    "def exp_ex(n):\n",
    "    steps = 0\n",
    "    if n <= 1:\n",
    "        return n, steps\n",
    "    steps += 1\n",
    "    return exp_ex(n-1) + exp_ex(n-2)\n",
    "print(len(exp_ex(4)))"
   ]
  },
  {
   "cell_type": "markdown",
   "metadata": {},
   "source": [
    "### Let's take a look at some of the time and space analysis of arrays"
   ]
  },
  {
   "cell_type": "code",
   "execution_count": null,
   "metadata": {},
   "outputs": [],
   "source": [
    "# def item_counter(arr):\n",
    "#     steps = 0\n",
    "#     for a in arr:\n",
    "#         arr.count(a)\n",
    "\n",
    "# for lists in general: indexing is Constant O(1)\n",
    "\n",
    "# searching is linear\n",
    "# for a in array:\n",
    "#     if a \n",
    "\n",
    "# copying a list/string: linear - both t/s compl the same\n",
    "# array[:] copying whole array\n",
    "\n",
    "# changing things in a list based on position - constant O(1)\n",
    "# arr[3] = 6\n",
    "\n",
    "\n",
    "\n",
    "\n",
    "\n",
    "\n",
    "\n"
   ]
  }
 ],
 "metadata": {
  "kernelspec": {
   "display_name": "Python 3 (ipykernel)",
   "language": "python",
   "name": "python3"
  },
  "language_info": {
   "codemirror_mode": {
    "name": "ipython",
    "version": 3
   },
   "file_extension": ".py",
   "mimetype": "text/x-python",
   "name": "python",
   "nbconvert_exporter": "python",
   "pygments_lexer": "ipython3",
   "version": "3.11.5"
  }
 },
 "nbformat": 4,
 "nbformat_minor": 2
}
